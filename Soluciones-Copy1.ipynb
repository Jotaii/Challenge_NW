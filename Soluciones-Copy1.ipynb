{
 "cells": [
  {
   "cell_type": "code",
   "execution_count": 4,
   "metadata": {},
   "outputs": [],
   "source": [
    "import numpy as np\n",
    "import pandas as pd\n",
    "import re\n",
    "import geopandas\n",
    "import matplotlib.pyplot as plt\n",
    "from shapely import wkt"
   ]
  },
  {
   "cell_type": "code",
   "execution_count": 5,
   "metadata": {},
   "outputs": [
    {
     "data": {
      "text/plain": [
       "'\\nObservaciones:\\n    1. Como en el enunciado se postula el problema enfocado en transporte público, se omitiran analisis\\n       respecto a usuarios que utilicen o dispongan de vehiculo privado/propio.\\n    2. A priori, como primer criterio para determinar viajes similares, se buscará informacion relacionada\\n       a la distancia media entre las minimas distancias entre barrios residenciales y sus paraderos de\\n       transporte publico mas cercanos.\\n    3. Dada que la hora es un marco de referencia \\'absoluto\\' para fines de este estudio, mientras mas\\n       cercanos entre ellos sean (temporalmente hablando) hay mas posibilidades de que se traten de viajes\\n       similares.\\n    4. Dificultad a primera vista: ¿como asignar alguna especie de ponderaciones/pesos o criterios con el\\n       objetivo de determinar algun \"score\" de similitud?\\n'"
      ]
     },
     "execution_count": 5,
     "metadata": {},
     "output_type": "execute_result"
    }
   ],
   "source": [
    "'''\n",
    "Observaciones:\n",
    "    1. Como en el enunciado se postula el problema enfocado en transporte público, se omitiran analisis\n",
    "       respecto a usuarios que utilicen o dispongan de vehiculo privado/propio.\n",
    "    2. A priori, como primer criterio para determinar viajes similares, se buscará informacion relacionada\n",
    "       a la distancia media entre las minimas distancias entre barrios residenciales y sus paraderos de\n",
    "       transporte publico mas cercanos.\n",
    "    3. Dada que la hora es un marco de referencia 'absoluto' para fines de este estudio, mientras mas\n",
    "       cercanos entre ellos sean (temporalmente hablando) hay mas posibilidades de que se traten de viajes\n",
    "       similares.\n",
    "    4. Dificultad a primera vista: ¿como asignar alguna especie de ponderaciones/pesos o criterios con el\n",
    "       objetivo de determinar algun \"score\" de similitud?\n",
    "'''"
   ]
  },
  {
   "cell_type": "code",
   "execution_count": 6,
   "metadata": {},
   "outputs": [],
   "source": [
    "def update_columns(func:str, col_name:str, col_list:list):\n",
    "    if func is 'add' and col_name not in col_list:\n",
    "        col_list.append(col_name)\n",
    "    elif func is 'del' and col_name in col_list:\n",
    "        col_list.remove(col_name)"
   ]
  },
  {
   "cell_type": "code",
   "execution_count": 7,
   "metadata": {},
   "outputs": [
    {
     "data": {
      "text/html": [
       "<div>\n",
       "<style scoped>\n",
       "    .dataframe tbody tr th:only-of-type {\n",
       "        vertical-align: middle;\n",
       "    }\n",
       "\n",
       "    .dataframe tbody tr th {\n",
       "        vertical-align: top;\n",
       "    }\n",
       "\n",
       "    .dataframe thead th {\n",
       "        text-align: right;\n",
       "    }\n",
       "</style>\n",
       "<table border=\"1\" class=\"dataframe\">\n",
       "  <thead>\n",
       "    <tr style=\"text-align: right;\">\n",
       "      <th></th>\n",
       "      <th>region</th>\n",
       "      <th>origin_coord</th>\n",
       "      <th>destination_coord</th>\n",
       "      <th>datetime</th>\n",
       "    </tr>\n",
       "  </thead>\n",
       "  <tbody>\n",
       "    <tr>\n",
       "      <th>0</th>\n",
       "      <td>Prague</td>\n",
       "      <td>POINT (14.4973794438195 50.00136875782316)</td>\n",
       "      <td>POINT (14.43109483523328 50.04052930943246)</td>\n",
       "      <td>2018-05-28 09:03:40</td>\n",
       "    </tr>\n",
       "    <tr>\n",
       "      <th>1</th>\n",
       "      <td>Turin</td>\n",
       "      <td>POINT (7.672837913286881 44.9957109242058)</td>\n",
       "      <td>POINT (7.720368637535126 45.06782385393849)</td>\n",
       "      <td>2018-05-21 02:54:04</td>\n",
       "    </tr>\n",
       "    <tr>\n",
       "      <th>2</th>\n",
       "      <td>Prague</td>\n",
       "      <td>POINT (14.32427345662177 50.00002074358429)</td>\n",
       "      <td>POINT (14.47767895969969 50.09339790740321)</td>\n",
       "      <td>2018-05-13 08:52:25</td>\n",
       "    </tr>\n",
       "    <tr>\n",
       "      <th>3</th>\n",
       "      <td>Turin</td>\n",
       "      <td>POINT (7.541509189114433 45.09160503827746)</td>\n",
       "      <td>POINT (7.74528653441973 45.02628598341506)</td>\n",
       "      <td>2018-05-06 09:49:16</td>\n",
       "    </tr>\n",
       "    <tr>\n",
       "      <th>4</th>\n",
       "      <td>Turin</td>\n",
       "      <td>POINT (7.614078119815749 45.13433106465422)</td>\n",
       "      <td>POINT (7.527497142312585 45.03335051325654)</td>\n",
       "      <td>2018-05-23 12:45:54</td>\n",
       "    </tr>\n",
       "  </tbody>\n",
       "</table>\n",
       "</div>"
      ],
      "text/plain": [
       "   region                                 origin_coord  \\\n",
       "0  Prague   POINT (14.4973794438195 50.00136875782316)   \n",
       "1   Turin   POINT (7.672837913286881 44.9957109242058)   \n",
       "2  Prague  POINT (14.32427345662177 50.00002074358429)   \n",
       "3   Turin  POINT (7.541509189114433 45.09160503827746)   \n",
       "4   Turin  POINT (7.614078119815749 45.13433106465422)   \n",
       "\n",
       "                             destination_coord             datetime  \n",
       "0  POINT (14.43109483523328 50.04052930943246)  2018-05-28 09:03:40  \n",
       "1  POINT (7.720368637535126 45.06782385393849)  2018-05-21 02:54:04  \n",
       "2  POINT (14.47767895969969 50.09339790740321)  2018-05-13 08:52:25  \n",
       "3   POINT (7.74528653441973 45.02628598341506)  2018-05-06 09:49:16  \n",
       "4  POINT (7.527497142312585 45.03335051325654)  2018-05-23 12:45:54  "
      ]
     },
     "execution_count": 7,
     "metadata": {},
     "output_type": "execute_result"
    }
   ],
   "source": [
    "df_raw_data = pd.read_csv('trips.csv')\n",
    "columns_to_show = list(df_raw_data.columns.copy())\n",
    "update_columns('del', 'datasource', columns_to_show)\n",
    "df_raw_data.head()[columns_to_show]"
   ]
  },
  {
   "cell_type": "code",
   "execution_count": 8,
   "metadata": {},
   "outputs": [
    {
     "data": {
      "text/html": [
       "<div>\n",
       "<style scoped>\n",
       "    .dataframe tbody tr th:only-of-type {\n",
       "        vertical-align: middle;\n",
       "    }\n",
       "\n",
       "    .dataframe tbody tr th {\n",
       "        vertical-align: top;\n",
       "    }\n",
       "\n",
       "    .dataframe thead th {\n",
       "        text-align: right;\n",
       "    }\n",
       "</style>\n",
       "<table border=\"1\" class=\"dataframe\">\n",
       "  <thead>\n",
       "    <tr style=\"text-align: right;\">\n",
       "      <th></th>\n",
       "      <th>region</th>\n",
       "      <th>datetime</th>\n",
       "      <th>origin_x</th>\n",
       "      <th>origin_y</th>\n",
       "      <th>dest_x</th>\n",
       "      <th>dest_y</th>\n",
       "    </tr>\n",
       "  </thead>\n",
       "  <tbody>\n",
       "    <tr>\n",
       "      <th>0</th>\n",
       "      <td>Prague</td>\n",
       "      <td>2018-05-28 09:03:40</td>\n",
       "      <td>14.497379</td>\n",
       "      <td>50.001369</td>\n",
       "      <td>14.431095</td>\n",
       "      <td>50.040529</td>\n",
       "    </tr>\n",
       "    <tr>\n",
       "      <th>1</th>\n",
       "      <td>Turin</td>\n",
       "      <td>2018-05-21 02:54:04</td>\n",
       "      <td>7.672838</td>\n",
       "      <td>44.995711</td>\n",
       "      <td>7.720369</td>\n",
       "      <td>45.067824</td>\n",
       "    </tr>\n",
       "    <tr>\n",
       "      <th>2</th>\n",
       "      <td>Prague</td>\n",
       "      <td>2018-05-13 08:52:25</td>\n",
       "      <td>14.324273</td>\n",
       "      <td>50.000021</td>\n",
       "      <td>14.477679</td>\n",
       "      <td>50.093398</td>\n",
       "    </tr>\n",
       "    <tr>\n",
       "      <th>3</th>\n",
       "      <td>Turin</td>\n",
       "      <td>2018-05-06 09:49:16</td>\n",
       "      <td>7.541509</td>\n",
       "      <td>45.091605</td>\n",
       "      <td>7.745287</td>\n",
       "      <td>45.026286</td>\n",
       "    </tr>\n",
       "    <tr>\n",
       "      <th>4</th>\n",
       "      <td>Turin</td>\n",
       "      <td>2018-05-23 12:45:54</td>\n",
       "      <td>7.614078</td>\n",
       "      <td>45.134331</td>\n",
       "      <td>7.527497</td>\n",
       "      <td>45.033351</td>\n",
       "    </tr>\n",
       "  </tbody>\n",
       "</table>\n",
       "</div>"
      ],
      "text/plain": [
       "   region             datetime   origin_x   origin_y     dest_x     dest_y\n",
       "0  Prague  2018-05-28 09:03:40  14.497379  50.001369  14.431095  50.040529\n",
       "1   Turin  2018-05-21 02:54:04   7.672838  44.995711   7.720369  45.067824\n",
       "2  Prague  2018-05-13 08:52:25  14.324273  50.000021  14.477679  50.093398\n",
       "3   Turin  2018-05-06 09:49:16   7.541509  45.091605   7.745287  45.026286\n",
       "4   Turin  2018-05-23 12:45:54   7.614078  45.134331   7.527497  45.033351"
      ]
     },
     "execution_count": 8,
     "metadata": {},
     "output_type": "execute_result"
    }
   ],
   "source": [
    "#Preprocesamiento y filtrado de columnas que no seran utilizadas\n",
    "#Separacion de los puntos en sus componentes (probable criterio para identificar cercania)\n",
    "df_raw_data['origin_x'] = [float(re.findall(r'\\d{1,2}\\.\\d*', x)[0]) for x in df_raw_data['origin_coord']]\n",
    "df_raw_data['origin_y'] = [float(re.findall(r'\\d{1,2}\\.\\d*', x)[1]) for x in df_raw_data['origin_coord']]\n",
    "update_columns('del', 'origin_coord', columns_to_show)\n",
    "update_columns('add', 'origin_x', columns_to_show)\n",
    "update_columns('add', 'origin_y', columns_to_show)\n",
    "\n",
    "df_raw_data['dest_x'] = [float(re.findall(r'\\d{1,2}\\.\\d*', x)[0]) for x in df_raw_data['destination_coord']]\n",
    "df_raw_data['dest_y'] = [float(re.findall(r'\\d{1,2}\\.\\d*', x)[1]) for x in df_raw_data['destination_coord']]\n",
    "update_columns('del', 'destination_coord', columns_to_show)\n",
    "update_columns('add', 'dest_x', columns_to_show)\n",
    "update_columns('add', 'dest_y', columns_to_show)\n",
    "\n",
    "df_raw_data.head()[columns_to_show]"
   ]
  },
  {
   "cell_type": "code",
   "execution_count": 16,
   "metadata": {},
   "outputs": [
    {
     "ename": "AttributeError",
     "evalue": "type object 'GeoSeries' has no attribute 'from_wkt'",
     "output_type": "error",
     "traceback": [
      "\u001b[1;31m---------------------------------------------------------------------------\u001b[0m",
      "\u001b[1;31mAttributeError\u001b[0m                            Traceback (most recent call last)",
      "\u001b[1;32m<ipython-input-16-2977c6d379e7>\u001b[0m in \u001b[0;36m<module>\u001b[1;34m\u001b[0m\n\u001b[0;32m      7\u001b[0m \u001b[1;32mfrom\u001b[0m \u001b[0mshapely\u001b[0m \u001b[1;32mimport\u001b[0m \u001b[0mwkt\u001b[0m\u001b[1;33m\u001b[0m\u001b[1;33m\u001b[0m\u001b[0m\n\u001b[0;32m      8\u001b[0m \u001b[1;33m\u001b[0m\u001b[0m\n\u001b[1;32m----> 9\u001b[1;33m \u001b[0mdf_raw_data\u001b[0m\u001b[1;33m[\u001b[0m\u001b[1;34m'Coordinates'\u001b[0m\u001b[1;33m]\u001b[0m \u001b[1;33m=\u001b[0m \u001b[0mgeopandas\u001b[0m\u001b[1;33m.\u001b[0m\u001b[0mGeoSeries\u001b[0m\u001b[1;33m.\u001b[0m\u001b[0mfrom_wkt\u001b[0m\u001b[1;33m(\u001b[0m\u001b[0mdf_raw_data\u001b[0m\u001b[1;33m[\u001b[0m\u001b[1;34m'destination_coord'\u001b[0m\u001b[1;33m]\u001b[0m\u001b[1;33m)\u001b[0m\u001b[1;33m\u001b[0m\u001b[1;33m\u001b[0m\u001b[0m\n\u001b[0m\u001b[0;32m     10\u001b[0m \u001b[0mgdf\u001b[0m \u001b[1;33m=\u001b[0m \u001b[0mgeopandas\u001b[0m\u001b[1;33m.\u001b[0m\u001b[0mGeoDataFrame\u001b[0m\u001b[1;33m(\u001b[0m\u001b[0mdf_raw_data\u001b[0m\u001b[1;33m,\u001b[0m \u001b[0mgeometry\u001b[0m\u001b[1;33m=\u001b[0m\u001b[1;34m'Coordinates'\u001b[0m\u001b[1;33m)\u001b[0m\u001b[1;33m\u001b[0m\u001b[1;33m\u001b[0m\u001b[0m\n\u001b[0;32m     11\u001b[0m \u001b[0mprint\u001b[0m\u001b[1;33m(\u001b[0m\u001b[0mgdf\u001b[0m\u001b[1;33m.\u001b[0m\u001b[0mhead\u001b[0m\u001b[1;33m(\u001b[0m\u001b[1;33m)\u001b[0m\u001b[1;33m)\u001b[0m\u001b[1;33m\u001b[0m\u001b[1;33m\u001b[0m\u001b[0m\n",
      "\u001b[1;31mAttributeError\u001b[0m: type object 'GeoSeries' has no attribute 'from_wkt'"
     ]
    }
   ],
   "source": [
    "#df_raw_data['origin_coord'] = geopandas.GeoSeries.wtk(df_raw_data['origin_coord'])\n",
    "#df_raw_data['dest_coord'] = geopandas.GeoSeries.wtk(df_raw_data['origin_coord'])\n",
    "# gdf = geopandas.GeoDataFrame(df_raw_data, geometry='origin_coord')\n",
    "\n",
    "# print(gdf.head())\n",
    "\n",
    "from shapely import wkt\n",
    "\n",
    "df_raw_data['Coordinates'] = geopandas.GeoSeries.from_wkt(df_raw_data['destination_coord'])\n",
    "gdf = geopandas.GeoDataFrame(df_raw_data, geometry='Coordinates')\n",
    "print(gdf.head())"
   ]
  },
  {
   "cell_type": "code",
   "execution_count": 26,
   "metadata": {},
   "outputs": [
    {
     "data": {
      "text/html": [
       "<div>\n",
       "<style scoped>\n",
       "    .dataframe tbody tr th:only-of-type {\n",
       "        vertical-align: middle;\n",
       "    }\n",
       "\n",
       "    .dataframe tbody tr th {\n",
       "        vertical-align: top;\n",
       "    }\n",
       "\n",
       "    .dataframe thead th {\n",
       "        text-align: right;\n",
       "    }\n",
       "</style>\n",
       "<table border=\"1\" class=\"dataframe\">\n",
       "  <thead>\n",
       "    <tr style=\"text-align: right;\">\n",
       "      <th></th>\n",
       "      <th>region</th>\n",
       "      <th>origin_coord</th>\n",
       "      <th>destination_coord</th>\n",
       "      <th>datetime</th>\n",
       "      <th>datasource</th>\n",
       "      <th>origin_x</th>\n",
       "      <th>origin_y</th>\n",
       "      <th>dest_x</th>\n",
       "      <th>dest_y</th>\n",
       "      <th>dest_coord</th>\n",
       "      <th>Geom_origin</th>\n",
       "    </tr>\n",
       "  </thead>\n",
       "  <tbody>\n",
       "    <tr>\n",
       "      <th>0</th>\n",
       "      <td>Prague</td>\n",
       "      <td>POINT (14.4973794438195 50.00136875782316)</td>\n",
       "      <td>POINT (14.43109483523328 50.04052930943246)</td>\n",
       "      <td>2018-05-28 09:03:40</td>\n",
       "      <td>funny_car</td>\n",
       "      <td>14.497379</td>\n",
       "      <td>50.001369</td>\n",
       "      <td>14.431095</td>\n",
       "      <td>50.040529</td>\n",
       "      <td>POINT (14.4973794438195 50.00136875782316)</td>\n",
       "      <td>POINT (14.49738 50.00137)</td>\n",
       "    </tr>\n",
       "    <tr>\n",
       "      <th>1</th>\n",
       "      <td>Turin</td>\n",
       "      <td>POINT (7.672837913286881 44.9957109242058)</td>\n",
       "      <td>POINT (7.720368637535126 45.06782385393849)</td>\n",
       "      <td>2018-05-21 02:54:04</td>\n",
       "      <td>baba_car</td>\n",
       "      <td>7.672838</td>\n",
       "      <td>44.995711</td>\n",
       "      <td>7.720369</td>\n",
       "      <td>45.067824</td>\n",
       "      <td>POINT (7.672837913286881 44.9957109242058)</td>\n",
       "      <td>POINT (7.67284 44.99571)</td>\n",
       "    </tr>\n",
       "    <tr>\n",
       "      <th>2</th>\n",
       "      <td>Prague</td>\n",
       "      <td>POINT (14.32427345662177 50.00002074358429)</td>\n",
       "      <td>POINT (14.47767895969969 50.09339790740321)</td>\n",
       "      <td>2018-05-13 08:52:25</td>\n",
       "      <td>cheap_mobile</td>\n",
       "      <td>14.324273</td>\n",
       "      <td>50.000021</td>\n",
       "      <td>14.477679</td>\n",
       "      <td>50.093398</td>\n",
       "      <td>POINT (14.32427345662177 50.00002074358429)</td>\n",
       "      <td>POINT (14.32427 50.00002)</td>\n",
       "    </tr>\n",
       "    <tr>\n",
       "      <th>3</th>\n",
       "      <td>Turin</td>\n",
       "      <td>POINT (7.541509189114433 45.09160503827746)</td>\n",
       "      <td>POINT (7.74528653441973 45.02628598341506)</td>\n",
       "      <td>2018-05-06 09:49:16</td>\n",
       "      <td>bad_diesel_vehicles</td>\n",
       "      <td>7.541509</td>\n",
       "      <td>45.091605</td>\n",
       "      <td>7.745287</td>\n",
       "      <td>45.026286</td>\n",
       "      <td>POINT (7.541509189114433 45.09160503827746)</td>\n",
       "      <td>POINT (7.54151 45.09161)</td>\n",
       "    </tr>\n",
       "    <tr>\n",
       "      <th>4</th>\n",
       "      <td>Turin</td>\n",
       "      <td>POINT (7.614078119815749 45.13433106465422)</td>\n",
       "      <td>POINT (7.527497142312585 45.03335051325654)</td>\n",
       "      <td>2018-05-23 12:45:54</td>\n",
       "      <td>pt_search_app</td>\n",
       "      <td>7.614078</td>\n",
       "      <td>45.134331</td>\n",
       "      <td>7.527497</td>\n",
       "      <td>45.033351</td>\n",
       "      <td>POINT (7.614078119815749 45.13433106465422)</td>\n",
       "      <td>POINT (7.61408 45.13433)</td>\n",
       "    </tr>\n",
       "  </tbody>\n",
       "</table>\n",
       "</div>"
      ],
      "text/plain": [
       "   region                                 origin_coord  \\\n",
       "0  Prague   POINT (14.4973794438195 50.00136875782316)   \n",
       "1   Turin   POINT (7.672837913286881 44.9957109242058)   \n",
       "2  Prague  POINT (14.32427345662177 50.00002074358429)   \n",
       "3   Turin  POINT (7.541509189114433 45.09160503827746)   \n",
       "4   Turin  POINT (7.614078119815749 45.13433106465422)   \n",
       "\n",
       "                             destination_coord             datetime  \\\n",
       "0  POINT (14.43109483523328 50.04052930943246)  2018-05-28 09:03:40   \n",
       "1  POINT (7.720368637535126 45.06782385393849)  2018-05-21 02:54:04   \n",
       "2  POINT (14.47767895969969 50.09339790740321)  2018-05-13 08:52:25   \n",
       "3   POINT (7.74528653441973 45.02628598341506)  2018-05-06 09:49:16   \n",
       "4  POINT (7.527497142312585 45.03335051325654)  2018-05-23 12:45:54   \n",
       "\n",
       "            datasource   origin_x   origin_y     dest_x     dest_y  \\\n",
       "0            funny_car  14.497379  50.001369  14.431095  50.040529   \n",
       "1             baba_car   7.672838  44.995711   7.720369  45.067824   \n",
       "2         cheap_mobile  14.324273  50.000021  14.477679  50.093398   \n",
       "3  bad_diesel_vehicles   7.541509  45.091605   7.745287  45.026286   \n",
       "4        pt_search_app   7.614078  45.134331   7.527497  45.033351   \n",
       "\n",
       "                                    dest_coord                Geom_origin  \n",
       "0   POINT (14.4973794438195 50.00136875782316)  POINT (14.49738 50.00137)  \n",
       "1   POINT (7.672837913286881 44.9957109242058)   POINT (7.67284 44.99571)  \n",
       "2  POINT (14.32427345662177 50.00002074358429)  POINT (14.32427 50.00002)  \n",
       "3  POINT (7.541509189114433 45.09160503827746)   POINT (7.54151 45.09161)  \n",
       "4  POINT (7.614078119815749 45.13433106465422)   POINT (7.61408 45.13433)  "
      ]
     },
     "execution_count": 26,
     "metadata": {},
     "output_type": "execute_result"
    }
   ],
   "source": [
    "df_raw_data['Geom_origin'] = df_raw_data.origin_coord.apply(wkt.loads)\n",
    "gdf = geopandas.GeoDataFrame(df_raw_data, geometry='Geom_origin')\n",
    "\n",
    "gdf.head()"
   ]
  },
  {
   "cell_type": "code",
   "execution_count": 32,
   "metadata": {},
   "outputs": [
    {
     "data": {
      "image/png": "[encoded data removed]",
      "text/plain": [
       "<Figure size 432x288 with 1 Axes>"
      ]
     },
     "metadata": {
      "needs_background": "light"
     },
     "output_type": "display_data"
    }
   ],
   "source": [
    "world = geopandas.read_file(geopandas.datasets.get_path('naturalearth_lowres'))\n",
    "\n",
    "# We restrict to South America.\n",
    "ax = world[world.continent == 'Europe'].plot(color='white', edgecolor='black')\n",
    "\n",
    "# We can now plot our ``GeoDataFrame``.\n",
    "gdf.plot(ax=ax, color='red', size=)\n",
    "\n",
    "plt.show()"
   ]
  },
  {
   "cell_type": "code",
   "execution_count": 31,
   "metadata": {},
   "outputs": [
    {
     "data": {
      "text/plain": [
       "array(['Oceania', 'Africa', 'North America', 'Asia', 'South America',\n",
       "       'Europe', 'Seven seas (open ocean)', 'Antarctica'], dtype=object)"
      ]
     },
     "execution_count": 31,
     "metadata": {},
     "output_type": "execute_result"
    }
   ],
   "source": [
    "world.continent.unique()"
   ]
  },
  {
   "cell_type": "code",
   "execution_count": null,
   "metadata": {},
   "outputs": [],
   "source": []
  },
  {
   "cell_type": "code",
   "execution_count": null,
   "metadata": {},
   "outputs": [],
   "source": []
  }
 ],
 "metadata": {
  "kernelspec": {
   "display_name": "Python 3",
   "language": "python",
   "name": "python3"
  },
  "language_info": {
   "codemirror_mode": {
    "name": "ipython",
    "version": 3
   },
   "file_extension": ".py",
   "mimetype": "text/x-python",
   "name": "python",
   "nbconvert_exporter": "python",
   "pygments_lexer": "ipython3",
   "version": "3.7.3"
  }
 },
 "nbformat": 4,
 "nbformat_minor": 2
}
